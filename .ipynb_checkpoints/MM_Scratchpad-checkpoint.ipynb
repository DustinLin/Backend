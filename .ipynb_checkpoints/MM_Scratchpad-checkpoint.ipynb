{
 "cells": [
  {
   "cell_type": "markdown",
   "metadata": {},
   "source": [
    "### Parsing for 'and'"
   ]
  },
  {
   "cell_type": "markdown",
   "metadata": {},
   "source": [
    "Method 1"
   ]
  },
  {
   "cell_type": "code",
   "execution_count": null,
   "metadata": {},
   "outputs": [],
   "source": [
    " #['MATH', '31CH', 'or', 'MATH', '109', 'or', 'consent', 'of', 'instructor']\n",
    "\n",
    "#['A', '1', 'or', 'A', '2', 'and', 'A', '5', 'and', 'A', '6', 'or', 'A', '7', 'and', 'A', '9']\n",
    "ps_2d =  []\n",
    "\n",
    "parse_i = 0\n",
    "\n",
    "for i in np.arange(len(ps) - 1):    \n",
    "    if ps[i] == 'and':\n",
    "        ps_2d.append(list(ps[ parse_i : i]) )\n",
    "        parse_i = i +1\n",
    "ps_2d.append(list(ps[ parse_i:]) ) # <<< wat??"
   ]
  },
  {
   "cell_type": "markdown",
   "metadata": {},
   "source": [
    "Method 2 (currently used)"
   ]
  },
  {
   "cell_type": "code",
   "execution_count": null,
   "metadata": {},
   "outputs": [],
   "source": [
    "ps = ['A', '1', 'or', 'A', '2', 'and', 'A', '5', 'and', 'A', '6', 'or', 'A', '7', 'and', 'A', '9']\n",
    "ps_2d =  [[]]\n",
    "\n",
    "inner_i = 0\n",
    "\n",
    "for i in np.arange(len(ps)):    \n",
    "    if ps[i] != 'and':\n",
    "        ps_2d[inner_i].append(ps[i])\n",
    "    else:\n",
    "        ps_2d.append([])\n",
    "        inner_i = inner_i + 1"
   ]
  }
 ],
 "metadata": {
  "kernelspec": {
   "display_name": "Python 3",
   "language": "python",
   "name": "python3"
  },
  "language_info": {
   "codemirror_mode": {
    "name": "ipython",
    "version": 3
   },
   "file_extension": ".py",
   "mimetype": "text/x-python",
   "name": "python",
   "nbconvert_exporter": "python",
   "pygments_lexer": "ipython3",
   "version": "3.7.4"
  }
 },
 "nbformat": 4,
 "nbformat_minor": 2
}
