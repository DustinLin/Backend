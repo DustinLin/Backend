{
 "cells": [
  {
   "cell_type": "code",
   "execution_count": 1,
   "metadata": {},
   "outputs": [],
   "source": [
    "from bs4 import BeautifulSoup\n",
    "import requests\n",
    "import pandas as pd\n",
    "import numpy as np\n",
    "import nltk\n",
    "import re"
   ]
  },
  {
   "cell_type": "markdown",
   "metadata": {},
   "source": [
    "Eventually create a list of major codes and run a for loop to get all dataframes"
   ]
  },
  {
   "cell_type": "code",
   "execution_count": 58,
   "metadata": {},
   "outputs": [],
   "source": [
    "def extract_course_catalog_info(dept): #where dept is a string\n",
    "    site_url = 'https://www.ucsd.edu/catalog/courses/' + dept + '.html'\n",
    "    page = requests.get(site_url)\n",
    "    soup = BeautifulSoup(page.content, 'html.parser')\n",
    "    "
   ]
  },
  {
   "cell_type": "code",
   "execution_count": 2,
   "metadata": {},
   "outputs": [],
   "source": [
    "#site_url = 'https://www.ucsd.edu/catalog/courses/' + 'dept' + '.html'\n",
    "\n",
    "site_url = 'https://www.ucsd.edu/catalog/courses/MATH.html'\n",
    "dept = 'Math'\n",
    "page = requests.get(site_url)\n",
    "soup = BeautifulSoup(page.content, 'html.parser')\n",
    "\n",
    "#https://stackoverflow.com/questions/49010813/how-to-find-a-particular-class-in-beautifulsoup-using-findall"
   ]
  },
  {
   "cell_type": "markdown",
   "metadata": {},
   "source": [
    "## objctv: With soup, slice between each anchor parent, to find classes without prerequisites"
   ]
  },
  {
   "cell_type": "markdown",
   "metadata": {},
   "source": [
    "# This is making page source into a string.  Try to find what delineates each element"
   ]
  },
  {
   "cell_type": "code",
   "execution_count": 3,
   "metadata": {},
   "outputs": [],
   "source": [
    "page_source = []\n",
    "for i in soup:\n",
    "    page_source = np.append(page_source, str(i))"
   ]
  },
  {
   "cell_type": "code",
   "execution_count": 4,
   "metadata": {},
   "outputs": [],
   "source": [
    "page_text0 = soup.get_text()\n",
    "page_text_array = np.array(re.findall(r'\\w+', page_text0)) # Does not have punctuation marks!!"
   ]
  },
  {
   "cell_type": "markdown",
   "metadata": {},
   "source": [
    "# Looking at just names and descriptions w/ htmlclass separation"
   ]
  },
  {
   "cell_type": "code",
   "execution_count": 5,
   "metadata": {},
   "outputs": [],
   "source": [
    "#full_list = soup.find_all(\"p\", {\"class\": \"anchor-parent\"}) \n",
    "\n",
    "names = soup.find_all(\"p\", {\"class\": \"course-name\"})\n",
    "descriptions = soup.find_all(\"p\", {\"class\": \"course-descriptions\"}) #includes prereqs (so want to extract that)\n"
   ]
  },
  {
   "cell_type": "code",
   "execution_count": 6,
   "metadata": {},
   "outputs": [],
   "source": [
    "name_list = [] #this is in HTML contains all course header info\n",
    "\n",
    "for x in names:\n",
    "    name_list.append(str(x))"
   ]
  },
  {
   "cell_type": "code",
   "execution_count": 7,
   "metadata": {},
   "outputs": [],
   "source": [
    "course_ids = []\n",
    "course_names = []\n",
    "course_units = [] \n",
    "\n",
    "for n in np.arange(len(name_list) - 1):\n",
    "    #for i in np.arange(len(name_list[n]) - 1):\n",
    "    x = name_list[n]\n",
    "    course_ids.append(x[len('<p class=\"course-name\">') + len(dept) + 1 : x.index('.')])\n",
    "    course_names.append(x[x.index('.')+2:len(x)-8])\n",
    "    course_units.append(x[len(x)-6])"
   ]
  },
  {
   "cell_type": "markdown",
   "metadata": {},
   "source": [
    "## Some course names are weird (why?) e.g. 'Foundations\\n\\t\\t  of Teaching and Learning Mathematics I'"
   ]
  },
  {
   "cell_type": "markdown",
   "metadata": {},
   "source": [
    "## Course units cut off (why?)"
   ]
  },
  {
   "cell_type": "code",
   "execution_count": 8,
   "metadata": {},
   "outputs": [],
   "source": [
    "course_nums = []\n",
    "\n",
    "for i in course_ids:\n",
    "    course_nums.append(re.findall(r'\\d+|\\D+', i)) #regex makes id's in format 'Num' + 'Letter'    \n",
    "\n",
    "#regex for this \\d+|\\D+\n",
    "\n",
    "# just nums: r'^\\d+'"
   ]
  },
  {
   "cell_type": "markdown",
   "metadata": {},
   "source": [
    "#### use list comprehension it is cleaner\n",
    "\n",
    "finding indices of class category"
   ]
  },
  {
   "cell_type": "code",
   "execution_count": 9,
   "metadata": {},
   "outputs": [],
   "source": [
    "\n",
    "\n",
    "for i in course_nums:\n",
    "    if len(i[0]) == 2:\n",
    "        try:\n",
    "            lower_div_i = course_ids.index(i[0]+i[1]) #last index of lower divisions\n",
    "        except IndexError:\n",
    "            lower_div_i = course_ids.index(i[0])\n",
    "    if int(i[0]) < 200:\n",
    "        try:\n",
    "            upper_div_i = course_ids.index(i[0]+i[1]) #\" \" of upper divisions\n",
    "        except IndexError:\n",
    "            upper_div_i = course_ids.index(i[0])\n",
    "        \n",
    "#[i for i,val in enumerate(l) if val==]"
   ]
  },
  {
   "cell_type": "markdown",
   "metadata": {},
   "source": [
    "https://stackoverflow.com/questions/6294179/how-to-find-all-occurrences-of-an-element-in-a-list\n"
   ]
  },
  {
   "cell_type": "markdown",
   "metadata": {},
   "source": [
    "### How to find last value before 200"
   ]
  },
  {
   "cell_type": "code",
   "execution_count": 10,
   "metadata": {},
   "outputs": [],
   "source": [
    "#converting description blocks into lists\n",
    "\n",
    "desc_list = []\n",
    "for i in descriptions:\n",
    "    desc_list.append(re.findall(r\"\\w+,*\", str(i)))"
   ]
  },
  {
   "cell_type": "code",
   "execution_count": 11,
   "metadata": {},
   "outputs": [],
   "source": [
    "# Removing graduate courses\n",
    "\n",
    "course_ids = course_ids[0:upper_div_i + 1]\n",
    "course_names = course_names[0:upper_div_i + 1]\n",
    "course_units = course_units[0:upper_div_i + 1]\n",
    "desc_list = desc_list[0:upper_div_i + 1]"
   ]
  },
  {
   "cell_type": "code",
   "execution_count": 12,
   "metadata": {},
   "outputs": [],
   "source": [
    "#extracting prerequisites.  \n",
    "\n",
    "prereq_list = []\n",
    "\n",
    "for i in np.arange(len(desc_list)):\n",
    "    x = desc_list[i]\n",
    "    try: \n",
    "        prereq_list.append(x[x.index('Prerequisites')+2:len(x)-1])\n",
    "    except ValueError:\n",
    "        print('prereq extraction error at index', i) \n",
    "        prereq_list.append('None')"
   ]
  },
  {
   "cell_type": "code",
   "execution_count": 37,
   "metadata": {},
   "outputs": [
    {
     "data": {
      "text/plain": [
       "['MATH', '31CH', 'or', 'MATH', '109', 'or', 'consent', 'of', 'instructor']"
      ]
     },
     "execution_count": 37,
     "metadata": {},
     "output_type": "execute_result"
    }
   ],
   "source": [
    "prereq_list[25]"
   ]
  },
  {
   "cell_type": "markdown",
   "metadata": {},
   "source": [
    "## Check where the ValueErrors occur!  In some cases it may be faulty html e.g Math 157 has weird indent and misses prereq section"
   ]
  },
  {
   "cell_type": "markdown",
   "metadata": {},
   "source": [
    "Before cell below, need to clear the following words/strings: \n",
    "'either'\n",
    "\n",
    "and turn this:\n",
    "\n",
    "'Students',\n",
    "  'who',\n",
    "  'have',\n",
    "  'not',\n",
    "  'completed',\n",
    "  'listed',\n",
    "  'prerequisites',\n",
    "  'may',\n",
    "  'enroll',\n",
    "  'with',\n",
    "  'consent',\n",
    "  'of',\n",
    "  'instructor'\n",
    "  \n",
    "into just \" or + consent of instructor\"\n"
   ]
  },
  {
   "cell_type": "markdown",
   "metadata": {},
   "source": [
    "### might have to parse for or and make the lists 3d"
   ]
  },
  {
   "cell_type": "code",
   "execution_count": 49,
   "metadata": {
    "scrolled": true
   },
   "outputs": [],
   "source": [
    "prereqs_2d = []\n",
    "fuckyou = []\n",
    "for n in np.arange(len(course_ids)):\n",
    "    ps = prereq_list[n]\n",
    "    ps_2d = [[]]\n",
    "    inner_i = 0\n",
    "    for i in np.arange(len(ps)):    \n",
    "        if ps[i] != 'and':\n",
    "            ps_2d[inner_i].append(ps[i])\n",
    "        else:\n",
    "            ps_2d.append([])\n",
    "            inner_i = inner_i + 1\n",
    "    prereqs_2d.append(ps_2d)"
   ]
  },
  {
   "cell_type": "code",
   "execution_count": 54,
   "metadata": {},
   "outputs": [
    {
     "data": {
      "text/plain": [
       "75"
      ]
     },
     "execution_count": 54,
     "metadata": {},
     "output_type": "execute_result"
    }
   ],
   "source": [
    "course_ids.index('180A')"
   ]
  },
  {
   "cell_type": "code",
   "execution_count": 56,
   "metadata": {},
   "outputs": [
    {
     "data": {
      "text/plain": [
       "[['MATH', '20D'],\n",
       " ['either', 'MATH', '18', 'or', 'MATH', '20F', 'or', 'MATH', '31AH,'],\n",
       " ['MATH', '109', 'or', 'MATH', '31CH,'],\n",
       " ['MATH',\n",
       "  '180A',\n",
       "  'Students',\n",
       "  'who',\n",
       "  'have',\n",
       "  'not',\n",
       "  'completed',\n",
       "  'listed',\n",
       "  'prerequisites',\n",
       "  'may',\n",
       "  'enroll',\n",
       "  'with',\n",
       "  'consent',\n",
       "  'of',\n",
       "  'instructor']]"
      ]
     },
     "execution_count": 56,
     "metadata": {},
     "output_type": "execute_result"
    }
   ],
   "source": [
    "prereqs_2d[76]"
   ]
  },
  {
   "cell_type": "markdown",
   "metadata": {},
   "source": [
    "Below are two ways to parse \"and\".  Use second one"
   ]
  },
  {
   "cell_type": "code",
   "execution_count": 2,
   "metadata": {},
   "outputs": [],
   "source": [
    " #['MATH', '31CH', 'or', 'MATH', '109', 'or', 'consent', 'of', 'instructor']\n",
    "\n",
    "#['A', '1', 'or', 'A', '2', 'and', 'A', '5', 'and', 'A', '6', 'or', 'A', '7', 'and', 'A', '9']\n",
    "ps_2d =  []\n",
    "\n",
    "parse_i = 0\n",
    "\n",
    "for i in np.arange(len(ps) - 1):    \n",
    "    if ps[i] == 'and':\n",
    "        ps_2d.append(list(ps[ parse_i : i]) )\n",
    "        parse_i = i +1\n",
    "ps_2d.append(list(ps[ parse_i:]) ) # <<< wat??"
   ]
  },
  {
   "cell_type": "code",
   "execution_count": 45,
   "metadata": {},
   "outputs": [],
   "source": [
    "ps = ['A', '1', 'or', 'A', '2', 'and', 'A', '5', 'and', 'A', '6', 'or', 'A', '7', 'and', 'A', '9']\n",
    "ps_2d =  [[]]\n",
    "\n",
    "inner_i = 0\n",
    "\n",
    "for i in np.arange(len(ps)):    \n",
    "    if ps[i] != 'and':\n",
    "        ps_2d[inner_i].append(ps[i])\n",
    "    else:\n",
    "        ps_2d.append([])\n",
    "        inner_i = inner_i + 1\n"
   ]
  },
  {
   "cell_type": "code",
   "execution_count": null,
   "metadata": {},
   "outputs": [],
   "source": []
  },
  {
   "cell_type": "markdown",
   "metadata": {},
   "source": [
    "all classes are going to have to be in the same object unless more looping"
   ]
  },
  {
   "cell_type": "code",
   "execution_count": 57,
   "metadata": {},
   "outputs": [],
   "source": [
    "for prereq in prereqs_for_some_class:\n",
    "    preprereqs = [] # prereqs for this prereq \n",
    "    look at prereqs of the prereq:\n",
    "        repeat?\n",
    "\n",
    "\n",
    "for i in prereqs:\n",
    "    prereqs_3d[course_ids.index(i)]\n",
    "    "
   ]
  },
  {
   "cell_type": "markdown",
   "metadata": {},
   "source": [
    "# For prereqs, how to separate or, and etc"
   ]
  },
  {
   "cell_type": "code",
   "execution_count": 371,
   "metadata": {},
   "outputs": [],
   "source": [
    "alt_prereq = 'consent of instructor'"
   ]
  },
  {
   "cell_type": "markdown",
   "metadata": {},
   "source": [
    "# Want to create dataframe with Columns: name, ID, prereqs, descs (?)"
   ]
  },
  {
   "cell_type": "code",
   "execution_count": null,
   "metadata": {},
   "outputs": [],
   "source": [
    "course_info_df = pd.DataFrame({'Course id': course_ids, 'Course name': course_names, 'Course units' = course_units, 'Prereqs' = })"
   ]
  },
  {
   "cell_type": "markdown",
   "metadata": {},
   "source": [
    "Course names array must be in 2d.\n",
    "\n",
    "[[Math 2, Introduction to College Mathematics], [MATH 3, Precalculus] ...] "
   ]
  },
  {
   "cell_type": "code",
   "execution_count": 78,
   "metadata": {},
   "outputs": [
    {
     "name": "stdout",
     "output_type": "stream",
     "text": [
      "(205,)\n"
     ]
    }
   ],
   "source": [
    "\n",
    "#course_page = course_page[0:int(np.where(course_page == '<p class=\"course-name\">MATH 200A-B-C. Algebra (4-4-4)</p>')[0])]"
   ]
  },
  {
   "cell_type": "code",
   "execution_count": 51,
   "metadata": {},
   "outputs": [
    {
     "ename": "SyntaxError",
     "evalue": "unexpected EOF while parsing (<ipython-input-51-89e5bcb3f799>, line 5)",
     "output_type": "error",
     "traceback": [
      "\u001b[0;36m  File \u001b[0;32m\"<ipython-input-51-89e5bcb3f799>\"\u001b[0;36m, line \u001b[0;32m5\u001b[0m\n\u001b[0;31m    \u001b[0m\n\u001b[0m    ^\u001b[0m\n\u001b[0;31mSyntaxError\u001b[0m\u001b[0;31m:\u001b[0m unexpected EOF while parsing\n"
     ]
    }
   ],
   "source": [
    "courses = []\n",
    "start = ' <p class=\"course-name\"> '\n",
    "stop = '</p>'\n",
    "for i in course_page:\n",
    "    for s in i:\n",
    "        "
   ]
  },
  {
   "cell_type": "markdown",
   "metadata": {},
   "source": [
    "# once course list is isolated, find where graduate courses (>199) begin to slice "
   ]
  },
  {
   "cell_type": "markdown",
   "metadata": {},
   "source": [
    "# GRAPHS\n",
    "\n",
    "adjacency matrix or array of vertex pairs?\n",
    "\n",
    "-adj lists"
   ]
  },
  {
   "cell_type": "markdown",
   "metadata": {},
   "source": [
    "have to consider inter departmental case and how to access their respective course_ids etc"
   ]
  },
  {
   "cell_type": "markdown",
   "metadata": {},
   "source": [
    "The loop should keep going as long as it can find the class in a prereq object.\n",
    "\n",
    "dictionaries?  [Dept, ID] : [prereqs]"
   ]
  },
  {
   "cell_type": "code",
   "execution_count": null,
   "metadata": {},
   "outputs": [],
   "source": [
    "eg_prq = [['CSE 8B', 'CSE 11'],  ['MATH 18', 'MATH 31AH'], ['MATH 20E'], ['MATH 180A']]\n",
    "\n",
    "\n",
    "\n",
    "for i in eg_prq:\n",
    "    for n in eg_prq[i]:\n",
    "        #dept = n[0][0]\n",
    "                \n",
    "                if eg_prq[i] == prereq_list[x] "
   ]
  },
  {
   "cell_type": "code",
   "execution_count": null,
   "metadata": {},
   "outputs": [],
   "source": []
  }
 ],
 "metadata": {
  "kernelspec": {
   "display_name": "Python 2",
   "language": "python",
   "name": "python2"
  },
  "language_info": {
   "codemirror_mode": {
    "name": "ipython",
    "version": 2
   },
   "file_extension": ".py",
   "mimetype": "text/x-python",
   "name": "python",
   "nbconvert_exporter": "python",
   "pygments_lexer": "ipython2",
   "version": "2.7.15"
  }
 },
 "nbformat": 4,
 "nbformat_minor": 2
}
