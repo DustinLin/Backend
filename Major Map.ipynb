{
 "cells": [
  {
   "cell_type": "code",
   "execution_count": 8,
   "metadata": {},
   "outputs": [],
   "source": [
    "from bs4 import BeautifulSoup\n",
    "import requests\n",
    "import pandas as pd\n",
    "import numpy as np\n",
    "import nltk\n",
    "import re #regex"
   ]
  },
  {
   "cell_type": "markdown",
   "metadata": {},
   "source": [
    "Eventually create a list of major codes and run a for loop to get all dataframes"
   ]
  },
  {
   "cell_type": "code",
   "execution_count": 9,
   "metadata": {},
   "outputs": [],
   "source": [
    "def extract_course_catalog_info(dept): #where dept is a string\n",
    "    site_url = 'https://www.ucsd.edu/catalog/courses/' + dept + '.html'\n",
    "    page = requests.get(site_url)\n",
    "    soup = BeautifulSoup(page.content, 'html.parser')\n",
    "    "
   ]
  },
  {
   "cell_type": "code",
   "execution_count": 10,
   "metadata": {},
   "outputs": [],
   "source": [
    "#site_url = 'https://www.ucsd.edu/catalog/courses/' + 'dept' + '.html'\n",
    "\n",
    "dept = 'MATH'\n",
    "site_url = 'https://www.ucsd.edu/catalog/courses/MATH.html'\n",
    "page = requests.get(site_url)\n",
    "soup = BeautifulSoup(page.content, 'html.parser')\n",
    "\n",
    "#https://stackoverflow.com/questions/49010813/how-to-find-a-particular-class-in-beautifulsoup-using-findall"
   ]
  },
  {
   "cell_type": "markdown",
   "metadata": {},
   "source": [
    "# Looking at just names and descriptions w/ htmlclass separation"
   ]
  },
  {
   "cell_type": "code",
   "execution_count": 100,
   "metadata": {},
   "outputs": [],
   "source": [
    "#full_list = soup.find_all(\"p\", {\"class\": \"anchor-parent\"}) \n",
    "\n",
    "names = soup.find_all(\"p\", {\"class\": \"course-name\"})\n",
    "descriptions = soup.find_all(\"p\", {\"class\": \"course-descriptions\"}) #includes prereqs (so want to extract that)"
   ]
  },
  {
   "cell_type": "code",
   "execution_count": 145,
   "metadata": {},
   "outputs": [
    {
     "data": {
      "text/html": [
       "<div>\n",
       "<style scoped>\n",
       "    .dataframe tbody tr th:only-of-type {\n",
       "        vertical-align: middle;\n",
       "    }\n",
       "\n",
       "    .dataframe tbody tr th {\n",
       "        vertical-align: top;\n",
       "    }\n",
       "\n",
       "    .dataframe thead th {\n",
       "        text-align: right;\n",
       "    }\n",
       "</style>\n",
       "<table border=\"1\" class=\"dataframe\">\n",
       "  <thead>\n",
       "    <tr style=\"text-align: right;\">\n",
       "      <th></th>\n",
       "      <th>Course Name</th>\n",
       "      <th>Course Description</th>\n",
       "      <th>Course Units</th>\n",
       "    </tr>\n",
       "  </thead>\n",
       "  <tbody>\n",
       "    <tr>\n",
       "      <th>0</th>\n",
       "      <td>MATH 2</td>\n",
       "      <td>A highly adaptive course designed to build on ...</td>\n",
       "      <td>(4)</td>\n",
       "    </tr>\n",
       "    <tr>\n",
       "      <th>1</th>\n",
       "      <td>MATH 3C</td>\n",
       "      <td>Functions and their graphs. Linear and polynom...</td>\n",
       "      <td>(4)</td>\n",
       "    </tr>\n",
       "    <tr>\n",
       "      <th>2</th>\n",
       "      <td>MATH 4C</td>\n",
       "      <td>Review of polynomials. Graphing functions and ...</td>\n",
       "      <td>(4)</td>\n",
       "    </tr>\n",
       "    <tr>\n",
       "      <th>3</th>\n",
       "      <td>MATH 10A</td>\n",
       "      <td>Differential calculus of functions of one vari...</td>\n",
       "      <td>(4)</td>\n",
       "    </tr>\n",
       "    <tr>\n",
       "      <th>4</th>\n",
       "      <td>MATH 10B</td>\n",
       "      <td>Integral calculus of functions of one variable...</td>\n",
       "      <td>(4)</td>\n",
       "    </tr>\n",
       "    <tr>\n",
       "      <th>...</th>\n",
       "      <td>...</td>\n",
       "      <td>...</td>\n",
       "      <td>...</td>\n",
       "    </tr>\n",
       "    <tr>\n",
       "      <th>98</th>\n",
       "      <td>MATH 195</td>\n",
       "      <td>Students will be responsible for and teach a c...</td>\n",
       "      <td>(4)</td>\n",
       "    </tr>\n",
       "    <tr>\n",
       "      <th>99</th>\n",
       "      <td>MATH 196</td>\n",
       "      <td>A variety of topics and current research resul...</td>\n",
       "      <td>(1)</td>\n",
       "    </tr>\n",
       "    <tr>\n",
       "      <th>100</th>\n",
       "      <td>MATH 197</td>\n",
       "      <td>An enrichment program which provides work\\n\\t\\...</td>\n",
       "      <td>(2 or 4)</td>\n",
       "    </tr>\n",
       "    <tr>\n",
       "      <th>101</th>\n",
       "      <td>MATH 199</td>\n",
       "      <td>Independent reading in advanced mathematics by...</td>\n",
       "      <td>(2 or 4)</td>\n",
       "    </tr>\n",
       "    <tr>\n",
       "      <th>102</th>\n",
       "      <td>MATH 199H</td>\n",
       "      <td>Honors thesis research for seniors participati...</td>\n",
       "      <td>(2–4)</td>\n",
       "    </tr>\n",
       "  </tbody>\n",
       "</table>\n",
       "<p>103 rows × 3 columns</p>\n",
       "</div>"
      ],
      "text/plain": [
       "    Course Name                                 Course Description  \\\n",
       "0        MATH 2  A highly adaptive course designed to build on ...   \n",
       "1       MATH 3C  Functions and their graphs. Linear and polynom...   \n",
       "2       MATH 4C  Review of polynomials. Graphing functions and ...   \n",
       "3      MATH 10A  Differential calculus of functions of one vari...   \n",
       "4      MATH 10B  Integral calculus of functions of one variable...   \n",
       "..          ...                                                ...   \n",
       "98     MATH 195  Students will be responsible for and teach a c...   \n",
       "99     MATH 196  A variety of topics and current research resul...   \n",
       "100    MATH 197  An enrichment program which provides work\\n\\t\\...   \n",
       "101    MATH 199  Independent reading in advanced mathematics by...   \n",
       "102   MATH 199H  Honors thesis research for seniors participati...   \n",
       "\n",
       "    Course Units  \n",
       "0            (4)  \n",
       "1            (4)  \n",
       "2            (4)  \n",
       "3            (4)  \n",
       "4            (4)  \n",
       "..           ...  \n",
       "98           (4)  \n",
       "99           (1)  \n",
       "100     (2 or 4)  \n",
       "101     (2 or 4)  \n",
       "102        (2–4)  \n",
       "\n",
       "[103 rows x 3 columns]"
      ]
     },
     "execution_count": 145,
     "metadata": {},
     "output_type": "execute_result"
    }
   ],
   "source": [
    "df = pd.DataFrame(columns=['Course Name', 'Course Description', 'Course Units'])\n",
    "for course, description in zip(names, descriptions):\n",
    "    course, description = course.getText(), description.getText()\n",
    "    \n",
    "    # Course ID check to filter upper div. classes.\n",
    "    course_id = course[course.index(' ')+1:course.index('.')]\n",
    "    while course_id[-1].isalpha() or course_id[-1] == '-':\n",
    "        course_id = course_id[:-1]\n",
    "    course_id = int(course_id)\n",
    "    if course_id >= 200:\n",
    "        continue\n",
    "    \n",
    "    # Grabs course info.\n",
    "    course_name = course[:course.index('.')]\n",
    "    course_title = course[course.index('.')+1:course.index('(')-1]\n",
    "    course_units = course[course.index('('):course.index(')')+1]\n",
    "    \n",
    "    # Append row to data frame.\n",
    "    df = df.append({\n",
    "        'Course Name': course_name,\n",
    "        'Course Description': description,\n",
    "        'Course Units': course_units\n",
    "    }, ignore_index=True)\n",
    "df"
   ]
  },
  {
   "cell_type": "code",
   "execution_count": 44,
   "metadata": {},
   "outputs": [
    {
     "name": "stdout",
     "output_type": "stream",
     "text": [
      "[<p class=\"course-name\">MATH 2. Introduction to College Mathematics (4)</p>, <p class=\"course-name\">MATH 3C. Precalculus (4)</p>, <p class=\"course-name\">MATH 4C. Precalculus for Science and Engineering (4)</p>, <p class=\"course-name\">MATH 10A. Calculus I (4)</p>, <p class=\"course-name\">MATH 10B. Calculus II (4)</p>, <p class=\"course-name\">MATH 10C. Calculus III (4)</p>, <p class=\"course-name\">MATH 11. Calculus-Based Introductory Probability and Statistics (5)</p>, <p class=\"course-name\">MATH 15A. Introduction to Discrete Mathematics (4)</p>, <p class=\"course-name\">MATH 18. Linear Algebra (4)</p>, <p class=\"course-name\">MATH 20A. Calculus for Science and Engineering (4)</p>, <p class=\"course-name\">MATH 20B. Calculus for Science and Engineering (4)</p>, <p class=\"course-name\">MATH 20C. Calculus\n",
      "\t\t  and Analytic Geometry for Science and Engineering (4)</p>, <p class=\"course-name\">MATH 20D. Introduction to Differential Equations (4)</p>, <p class=\"course-name\">MATH 20E. Vector Calculus (4)</p>, <p class=\"course-name\">MATH 31AH. Honors Linear Algebra (4)</p>, <p class=\"course-name\">MATH 31BH. Honors Multivariable Calculus (4)</p>, <p class=\"course-name\">MATH 31CH. Honors Vector Calculus (4)</p>, <p class=\"course-name\">MATH 87. Freshman Seminar (1)</p>, <p class=\"course-name\">MATH 95. Introduction to Teaching Math (2)</p>, <p class=\"course-name\">MATH 96. Putnam Seminar (1)</p>, <p class=\"course-name\">MATH 99R. Independent Study (1) </p>, <p class=\"course-name\">MATH 100A. Abstract Algebra I (4)</p>, <p class=\"course-name\">MATH 100B. Abstract Algebra II (4)</p>, <p class=\"course-name\">MATH 100C. Abstract Algebra III (4)</p>, <p class=\"course-name\">MATH 102. Applied Linear Algebra (4)</p>, <p class=\"course-name\">MATH 103A. Modern Algebra I (4)</p>, <p class=\"course-name\">MATH 103B. Modern Algebra II (4)</p>, <p class=\"course-name\">MATH 104A. Number Theory I (4)</p>, <p class=\"course-name\">MATH 104B. Number Theory\n",
      "                  II (4)</p>, <p class=\"course-name\">MATH 104C. Number Theory III (4)</p>, <p class=\"course-name\">MATH 105. Basic Number Theory (4)</p>, <p class=\"course-name\">MATH 106. Introduction to Algebraic Geometry (4)</p>, <p class=\"course-name\">MATH 109. Mathematical Reasoning (4)</p>, <p class=\"course-name\">MATH 110. Introduction to Partial Differential Equations (4)</p>, <p class=\"course-name\">MATH 111A.\n",
      "                  Mathematical Modeling I (4)</p>, <p class=\"course-name\">MATH 111B. Mathematical Modeling II (4)</p>, <p class=\"course-name\">MATH 112A. Introduction to Mathematical Biology I (4)</p>, <p class=\"course-name\">MATH 112B. Introduction to Mathematical Biology II (4)</p>, <p class=\"course-name\">MATH 114. Introduction to Computational Stochastics (4)</p>, <p class=\"course-name\">MATH 120A. Elements of Complex Analysis (4)</p>, <p class=\"course-name\">MATH 120B. Applied Complex Analysis (4)</p>, <p class=\"course-name\">MATH 121A. Foundations\n",
      "\t\t  of Teaching and Learning Mathematics I (4)</p>, <p class=\"course-name\">MATH 121B. Foundations\n",
      "\t\t  of Teaching and Learning Math II (4)</p>, <p class=\"course-name\">MATH 130. Differential Equations and Dynamical Systems  (4)</p>, <p class=\"course-name\">MATH 140A. Foundations of Real Analysis I (4)</p>, <p class=\"course-name\">MATH 140B. Foundations of Real Analysis II (4)</p>, <p class=\"course-name\">MATH 140C. Foundations of Real Analysis III (4)</p>, <p class=\"course-name\">MATH 142A. Introduction to Analysis I (4)</p>, <p class=\"course-name\">MATH 142B. Introduction to Analysis II (4)</p>, <p class=\"course-name\">MATH 144. Introduction to Fourier Analysis (4)</p>, <p class=\"course-name\">MATH 146. Analysis of Ordinary Differential Equations (4)</p>, <p class=\"course-name\">MATH 148. Analysis of Partial Differential Equations (4)</p>, <p class=\"course-name\">MATH 150A. Differential Geometry (4)</p>, <p class=\"course-name\">MATH 150B. Calculus on Manifolds (4)</p>, <p class=\"course-name\">MATH 152. Applicable Mathematics and Computing (4)</p>, <p class=\"course-name\">MATH 153. Geometry for Secondary Teachers (4)</p>, <p class=\"course-name\">MATH 154. Discrete Mathematics and Graph Theory (4) </p>, <p class=\"course-name\">MATH 155A. Geometric Computer Graphics (4)</p>, <p class=\"course-name\">MATH 155B. Topics in Computer Graphics (4)</p>, <p class=\"course-name\">MATH 157. Introduction to Mathematical Software (4)</p>, <p class=\"course-name\">MATH 158. Extremal Combinatorics and Graph Theory (4)</p>, <p class=\"course-name\">MATH 160A. Elementary Mathematical Logic I (4)</p>, <p class=\"course-name\">MATH 160B. Elementary Mathematical Logic II (4)</p>, <p class=\"course-name\">MATH 163. History of Mathematics (4)</p>, <p class=\"course-name\">MATH 168A. Topics in Applied Mathematics—Computer Science\n",
      "(4)</p>, <p class=\"course-name\">MATH 170A. Introduction\n",
      "\t\t  to Numerical Analysis: Linear Algebra (4)</p>, <p class=\"course-name\">MATH 170B. Introduction to Numerical Analysis: Approximation and Nonlinear Equations (4)</p>, <p class=\"course-name\">MATH 170C. Introduction to Numerical Analysis: Ordinary Differential Equations (4)</p>, <p class=\"course-name\">MATH 171A. Introduction\n",
      "\t\t  to Numerical Optimization: Linear Programming (4)</p>, <p class=\"course-name\">MATH 171B. Introduction\n",
      "\t\t  to Numerical Optimization: Nonlinear Programming (4)</p>, <p class=\"course-name\">MATH 173A. Optimization Methods for Data Science I (4)</p>, <p class=\"course-name\">MATH 173B. Optimization Methods for Data Science II (4)</p>, <p class=\"course-name\">MATH 174. Numerical Methods for Physical Modeling (4)</p>, <p class=\"course-name\">MATH 175. Numerical\n",
      "\t\t  Methods for Partial Differential Equations (4)</p>, <p class=\"course-name\">MATH 179. Projects in Computational and Applied Mathematics (4)</p>, <p class=\"course-name\">MATH 180A. Introduction to Probability (4)</p>, <p class=\"course-name\">MATH 180B. Introduction to Stochastic Processes I (4)</p>, <p class=\"course-name\">MATH 180C. Introduction to Stochastic Processes II (4)</p>, <p class=\"course-name\">MATH 181A. Introduction to Mathematical Statistics I (4)</p>, <p class=\"course-name\">MATH 181B. Introduction to Mathematical Statistics II (4)</p>, <p class=\"course-name\">MATH 181C.\n",
      "  Mathematical Statistics—Nonparametric Statistics (4)</p>, <p class=\"course-name\">MATH 181D. Statistical Learning (4)</p>, <p class=\"course-name\">MATH 181E. Mathematical Statistics—Time Series (4)</p>, <p class=\"course-name\">MATH 181F. Sampling Surveys and Experimental Design (4)</p>, <p class=\"course-name\">MATH 183. Statistical Methods (4)</p>, <p class=\"course-name\">MATH 184. Enumerative Combinatorics (4)</p>, <p class=\"course-name\">MATH 185. Introduction to Computational Statistics (4)</p>, <p class=\"course-name\">MATH 186. Probability and Statistics for Bioinformatics (4)</p>, <p class=\"course-name\">MATH 187A. Introduction to Cryptography (4)</p>, <p class=\"course-name\">MATH 187B. Mathematics of Modern Cryptography (4)</p>, <p class=\"course-name\">MATH 188. Algebraic Combinatorics (4)</p>, <p class=\"course-name\">MATH 189. Exploratory Data Analysis and Inference (4)</p>, <p class=\"course-name\">MATH 190A. Foundations of Topology I  (4)</p>, <p class=\"course-name\">MATH 190B. Foundations of Topology II (4)</p>, <p class=\"course-name\">MATH 191. Topics in Topology (4)</p>, <p class=\"course-name\">MATH 193A. Actuarial Mathematics I (4)</p>, <p class=\"course-name\">MATH 193B. Actuarial Mathematics II (4)</p>, <p class=\"course-name\">MATH 194. The Mathematics of Finance (4)</p>, <p class=\"course-name\">MATH 195. Introduction to Teaching in Mathematics (4)</p>, <p class=\"course-name\">MATH 196. Student Colloquium (1)</p>, <p class=\"course-name\">MATH 197. Mathematics Internship (2 or 4)</p>, <p class=\"course-name\">MATH 199. Independent Study for Undergraduates (2 or 4)</p>, <p class=\"course-name\">MATH 199H. Honors\n",
      "\t\t  Thesis Research for Undergraduates (2–4)</p>, <p class=\"course-name\">MATH 200A-B-C. Algebra (4-4-4)</p>, <p class=\"course-name\">MATH 201A. Basic Topics in Algebra I (4)</p>, <p class=\"course-name\">MATH 202A. Applied Algebra I (4)</p>, <p class=\"course-name\">MATH 202B. Applied Algebra II (4)</p>, <p class=\"course-name\">MATH 202C. Applied Algebra III (4)</p>, <p class=\"course-name\">MATH 203A. Algebraic Geometry I (4)</p>, <p class=\"course-name\">MATH 203B. Algebraic Geometry II (4)</p>, <p class=\"course-name\">MATH 203C. Algebraic Geometry III (4)</p>, <p class=\"course-name\">MATH 204A. Number Theory I (4)</p>, <p class=\"course-name\">MATH 204B. Number Theory II (4)</p>, <p class=\"course-name\">MATH 204C. Number Theory III (4)</p>, <p class=\"course-name\">MATH 205. Topics in Number Theory (4)</p>, <p class=\"course-name\">MATH 206A. Topics in Algebraic Geometry (4)</p>, <p class=\"course-name\">MATH 206B. Further Topics in Algebraic Geometry (4)</p>, <p class=\"course-name\">MATH 207A. Topics in Algebra (4)</p>, <p class=\"course-name\">MATH 208. Seminar in Algebraic Geometry (1) </p>, <p class=\"course-name\">MATH 209. Seminar in Number Theory (1) </p>, <p class=\"course-name\">MATH 210A. Mathematical\n",
      "\t\t  Methods in Physics and Engineering (4)</p>, <p class=\"course-name\">MATH 210B. Mathematical\n",
      "\t\t  Methods in Physics and Engineering (4)</p>, <p class=\"course-name\">MATH 210C. Mathematical\n",
      "\t\t  Methods in Physics and Engineering (4)</p>, <p class=\"course-name\">MATH 217. Topics in Applied Mathematics (4)</p>, <p class=\"course-name\">MATH 218. Seminar in Mathematics of Biological Systems (1)</p>, <p class=\"course-name\">MATH 220A-B-C. Complex Analysis (4-4-4)</p>, <p class=\"course-name\">MATH 221A. Topics in Several Complex Variables (4)</p>, <p class=\"course-name\">MATH 221B. Further Topics in Several Complex Variables (4)</p>, <p class=\"course-name\">MATH 231A-B-C. Partial Differential Equations (4-4-4)</p>, <p class=\"course-name\">MATH 237A. Topics in Differential Equations (4)</p>, <p class=\"course-name\">MATH 237B. Further Topics in Differential Equations (4)</p>, <p class=\"course-name\">MATH 240A-B-C. Real Analysis (4-4-4)</p>, <p class=\"course-name\">MATH 241A-B. Functional Analysis (4-4)</p>, <p class=\"course-name\">MATH 242. Topics in Fourier Analysis (4)</p>, <p class=\"course-name\">MATH 243. Seminar in Functional Analysis (1)</p>, <p class=\"course-name\">MATH 245A. Convex Analysis and Optimization I (4)</p>, <p class=\"course-name\">MATH 245B. Convex Analysis and Optimization II (4)</p>, <p class=\"course-name\">MATH 245C. Convex Analysis and Optimization III (4)</p>, <p class=\"course-name\">MATH 247A. Topics in Real Analysis (4)</p>, <p class=\"course-name\">MATH 247B. Further Topics in Real Analysis (4)</p>, <p class=\"course-name\">MATH 248. Seminar in Real Analysis (1) </p>, <p class=\"course-name\">MATH 250A-B-C. Differential Geometry (4-4-4)</p>, <p class=\"course-name\">MATH 251A-B-C. Lie Groups (4-4-4)</p>, <p class=\"course-name\">MATH 256. Seminar in Lie Groups and Lie Algebras (1)</p>, <p class=\"course-name\">MATH 257A. Topics in Differential Geometry (4)</p>, <p class=\"course-name\">MATH 257B. Further Topics in Differential Geometry (4)</p>, <p class=\"course-name\">MATH 258. Seminar in Differential Geometry (1)</p>, <p class=\"course-name\">MATH 259A-B-C. Geometrical Physics (4-4-4)</p>, <p class=\"course-name\">MATH 260A. Mathematical Logic I (4)</p>, <p class=\"course-name\">MATH 260B. Mathematical Logic II (4)</p>, <p class=\"course-name\">MATH 261A. Probabilistic Combinatorics and Algorithms (4)</p>, <p class=\"course-name\">MATH 261B. Probabilistic\n",
      "\t\t  Combinatorics and Algorithms II (4)</p>, <p class=\"course-name\">MATH 261C. Probabilistic\n",
      "\t\t  Combinatorics and Algorithms III (4)</p>, <p class=\"course-name\">MATH 262A. Topics in Combinatorial Mathematics (4)</p>, <p class=\"course-name\">MATH 262B. Further Topics in Combinatorial Mathematics (4)</p>, <p class=\"course-name\">MATH 264A-B-C. Combinatorics (4-4-4)</p>, <p class=\"course-name\">MATH 267A. Topics in Mathematical Logic (4)</p>, <p class=\"course-name\">MATH 267B. Further Topics in Mathematical Logic (4)</p>, <p class=\"course-name\">MATH 268. Seminar in Logic (1) </p>, <p class=\"course-name\">MATH 269. Seminar in Combinatorics (1) </p>, <p class=\"course-name\">MATH 270A. Numerical Linear Algebra (4)</p>, <p class=\"course-name\">MATH 270B. Numerical\n",
      "\t\t  Approximation and Nonlinear Equations (4)</p>, <p class=\"course-name\">MATH 270C. Numerical Ordinary Differential Equations (4)</p>, <p class=\"course-name\">MATH 271A-B-C. Numerical Optimization (4-4-4)</p>, <p class=\"course-name\">MATH 272A. Numerical Partial Differential Equations I (4)</p>, <p class=\"course-name\">MATH 272B. Numerical Partial Differential Equations II (4)</p>, <p class=\"course-name\">MATH 272C. Numerical Partial Differential Equations III (4)</p>, <p class=\"course-name\">MATH 273A. Advanced\n",
      "\t\t  Techniques in Computational Mathematics I (4)</p>, <p class=\"course-name\">MATH 273B. Advanced\n",
      "\t\t  Techniques in Computational Mathematics II (4)</p>, <p class=\"course-name\">MATH 273C. Advanced\n",
      "\t\t  Techniques in Computational Mathematics III (4)</p>, <p class=\"course-name\">MATH 274. Numerical Methods for Physical Modeling (4)</p>, <p class=\"course-name\">MATH 275. Numerical Methods for Partial Differential Equations (4)</p>, <p class=\"course-name\">MATH 276. Numerical Analysis in Multiscale Biology (4)</p>, <p class=\"course-name\">MATH 277A. Topics in Computational and Applied Mathematics  (4)</p>, <p class=\"course-name\">MATH 278A. Seminar in Computational and Applied Mathematics (1) </p>, <p class=\"course-name\">MATH 278B. Seminar in Mathematical Physics/PDE (1) </p>, <p class=\"course-name\">MATH 278C. Seminar in Optimization (1)</p>, <p class=\"course-name\">MATH 279. Projects in Computational and Applied Mathematics (4)</p>, <p class=\"course-name\">MATH 280A. Probability Theory I (4)</p>, <p class=\"course-name\">MATH 280B. Probability Theory II (4)</p>, <p class=\"course-name\">MATH 280C. Probability Theory III (4)</p>, <p class=\"course-name\">MATH 281A. Mathematical Statistics (4)</p>, <p class=\"course-name\">MATH 281B. Mathematical Statistics (4)</p>, <p class=\"course-name\">MATH 281C. Mathematical Statistics (4)</p>, <p class=\"course-name\">MATH 282A. Applied Statistics I (4)</p>, <p class=\"course-name\">MATH 282B. Applied Statistics II (4)</p>, <p class=\"course-name\">MATH 283. Statistical Methods in Bioinformatics (4)</p>, <p class=\"course-name\">MATH 284. Survival Analysis (4)</p>, <p class=\"course-name\">MATH 285. Stochastic Processes (4)</p>, <p class=\"course-name\">MATH 286. Stochastic Differential Equations (4)</p>, <p class=\"course-name\">MATH 287A. Time Series Analysis (4)</p>, <p class=\"course-name\">MATH 287B. Multivariate Analysis (4)</p>, <p class=\"course-name\">MATH 287C. Advanced Time Series Analysis (4)</p>, <p class=\"course-name\">MATH 287D. Statistical Learning (4)</p>, <p class=\"course-name\">MATH 288. Seminar in Probability and Statistics (1) </p>, <p class=\"course-name\">MATH 289A. Topics in Probability and Statistics (4)</p>, <p class=\"course-name\">MATH 289B. Further Topics in Probability and Statistics (4)</p>, <p class=\"course-name\">MATH 289C. Exploratory Data Analysis and Inference (4)</p>, <p class=\"course-name\">MATH 290A-B-C. Topology (4-4-4)</p>, <p class=\"course-name\">MATH 291A. Topics in Topology (4)</p>, <p class=\"course-name\">MATH 291B. Further Topics in Topology (4)</p>, <p class=\"course-name\">MATH 292. Seminar in Topology (1) </p>, <p class=\"course-name\">MATH 294. The Mathematics of Finance (4)</p>, <p class=\"course-name\">MATH 295. Special Topics in Mathematics (1 to 4)</p>, <p class=\"course-name\">MATH 296. Graduate Student Colloquium (1)</p>, <p class=\"course-name\">MATH 297. Mathematics Graduate Research Internship (2–4)</p>, <p class=\"course-name\">MATH 299. Reading and Research (1 to 12)</p>, <p class=\"course-name\">MATH 500. Teaching Assistant Training (2 or 4)</p>]\n"
     ]
    }
   ],
   "source": [
    "print(names)"
   ]
  },
  {
   "cell_type": "code",
   "execution_count": 12,
   "metadata": {},
   "outputs": [],
   "source": [
    "name_list = [] #this is in HTML contains all course header info\n",
    "\n",
    "for x in names:\n",
    "    name_list.append(str(x))"
   ]
  },
  {
   "cell_type": "code",
   "execution_count": 26,
   "metadata": {},
   "outputs": [],
   "source": [
    "course_ids = []\n",
    "course_names = []\n",
    "course_units = [] \n",
    "\n",
    "for n in np.arange(len(name_list) - 1):\n",
    "    #for i in np.arange(len(name_list[n]) - 1):\n",
    "    x = name_list[n]\n",
    "    course_ids.append(x[len('<p class=\"course-name\">') + len(dept) + 1 : x.index('.')])\n",
    "    course_names.append(x[x.index('.')+2:len(x)-8])\n",
    "    course_units.append(x[len(x)-6])"
   ]
  },
  {
   "cell_type": "code",
   "execution_count": 28,
   "metadata": {},
   "outputs": [
    {
     "name": "stdout",
     "output_type": "stream",
     "text": [
      "['2', '3C', '4C', '10A', '10B', '10C', '11', '15A', '18', '20A', '20B', '20C', '20D', '20E', '31AH', '31BH', '31CH', '87', '95', '96', '99R', '100A', '100B', '100C', '102', '103A', '103B', '104A', '104B', '104C', '105', '106', '109', '110', '111A', '111B', '112A', '112B', '114', '120A', '120B', '121A', '121B', '130', '140A', '140B', '140C', '142A', '142B', '144', '146', '148', '150A', '150B', '152', '153', '154', '155A', '155B', '157', '158', '160A', '160B', '163', '168A', '170A', '170B', '170C', '171A', '171B', '173A', '173B', '174', '175', '179', '180A', '180B', '180C', '181A', '181B', '181C', '181D', '181E', '181F', '183', '184', '185', '186', '187A', '187B', '188', '189', '190A', '190B', '191', '193A', '193B', '194', '195', '196', '197', '199', '199H', '200A-B-C', '201A', '202A', '202B', '202C', '203A', '203B', '203C', '204A', '204B', '204C', '205', '206A', '206B', '207A', '208', '209', '210A', '210B', '210C', '217', '218', '220A-B-C', '221A', '221B', '231A-B-C', '237A', '237B', '240A-B-C', '241A-B', '242', '243', '245A', '245B', '245C', '247A', '247B', '248', '250A-B-C', '251A-B-C', '256', '257A', '257B', '258', '259A-B-C', '260A', '260B', '261A', '261B', '261C', '262A', '262B', '264A-B-C', '267A', '267B', '268', '269', '270A', '270B', '270C', '271A-B-C', '272A', '272B', '272C', '273A', '273B', '273C', '274', '275', '276', '277A', '278A', '278B', '278C', '279', '280A', '280B', '280C', '281A', '281B', '281C', '282A', '282B', '283', '284', '285', '286', '287A', '287B', '287C', '287D', '288', '289A', '289B', '289C', '290A-B-C', '291A', '291B', '292', '294', '295', '296', '297', '299']\n",
      "['Introduction to College Mathematics', 'Precalculus', 'Precalculus for Science and Engineering', 'Calculus I', 'Calculus II', 'Calculus III', 'Calculus-Based Introductory Probability and Statistics', 'Introduction to Discrete Mathematics', 'Linear Algebra', 'Calculus for Science and Engineering', 'Calculus for Science and Engineering', 'Calculus\\n\\t\\t  and Analytic Geometry for Science and Engineering', 'Introduction to Differential Equations', 'Vector Calculus', 'Honors Linear Algebra', 'Honors Multivariable Calculus', 'Honors Vector Calculus', 'Freshman Seminar', 'Introduction to Teaching Math', 'Putnam Seminar', 'Independent Study ', 'Abstract Algebra I', 'Abstract Algebra II', 'Abstract Algebra III', 'Applied Linear Algebra', 'Modern Algebra I', 'Modern Algebra II', 'Number Theory I', 'Number Theory\\n                  II', 'Number Theory III', 'Basic Number Theory', 'Introduction to Algebraic Geometry', 'Mathematical Reasoning', 'Introduction to Partial Differential Equations', '                  Mathematical Modeling I', 'Mathematical Modeling II', 'Introduction to Mathematical Biology I', 'Introduction to Mathematical Biology II', 'Introduction to Computational Stochastics', 'Elements of Complex Analysis', 'Applied Complex Analysis', 'Foundations\\n\\t\\t  of Teaching and Learning Mathematics I', 'Foundations\\n\\t\\t  of Teaching and Learning Math II', 'Differential Equations and Dynamical Systems ', 'Foundations of Real Analysis I', 'Foundations of Real Analysis II', 'Foundations of Real Analysis III', 'Introduction to Analysis I', 'Introduction to Analysis II', 'Introduction to Fourier Analysis', 'Analysis of Ordinary Differential Equations', 'Analysis of Partial Differential Equations', 'Differential Geometry', 'Calculus on Manifolds', 'Applicable Mathematics and Computing', 'Geometry for Secondary Teachers', 'Discrete Mathematics and Graph Theory ', 'Geometric Computer Graphics', 'Topics in Computer Graphics', 'Introduction to Mathematical Software', 'Extremal Combinatorics and Graph Theory', 'Elementary Mathematical Logic I', 'Elementary Mathematical Logic II', 'History of Mathematics', 'Topics in Applied Mathematics—Computer Science', 'Introduction\\n\\t\\t  to Numerical Analysis: Linear Algebra', 'Introduction to Numerical Analysis: Approximation and Nonlinear Equations', 'Introduction to Numerical Analysis: Ordinary Differential Equations', 'Introduction\\n\\t\\t  to Numerical Optimization: Linear Programming', 'Introduction\\n\\t\\t  to Numerical Optimization: Nonlinear Programming', 'Optimization Methods for Data Science I', 'Optimization Methods for Data Science II', 'Numerical Methods for Physical Modeling', 'Numerical\\n\\t\\t  Methods for Partial Differential Equations', 'Projects in Computational and Applied Mathematics', 'Introduction to Probability', 'Introduction to Stochastic Processes I', 'Introduction to Stochastic Processes II', 'Introduction to Mathematical Statistics I', 'Introduction to Mathematical Statistics II', '  Mathematical Statistics—Nonparametric Statistics', 'Statistical Learning', 'Mathematical Statistics—Time Series', 'Sampling Surveys and Experimental Design', 'Statistical Methods', 'Enumerative Combinatorics', 'Introduction to Computational Statistics', 'Probability and Statistics for Bioinformatics', 'Introduction to Cryptography', 'Mathematics of Modern Cryptography', 'Algebraic Combinatorics', 'Exploratory Data Analysis and Inference', 'Foundations of Topology I ', 'Foundations of Topology II', 'Topics in Topology', 'Actuarial Mathematics I', 'Actuarial Mathematics II', 'The Mathematics of Finance', 'Introduction to Teaching in Mathematics', 'Student Colloquium', 'Mathematics Internship (2 o', 'Independent Study for Undergraduates (2 o', 'Honors\\n\\t\\t  Thesis Research for Undergraduates (', 'Algebra (4-', 'Basic Topics in Algebra I', 'Applied Algebra I', 'Applied Algebra II', 'Applied Algebra III', 'Algebraic Geometry I', 'Algebraic Geometry II', 'Algebraic Geometry III', 'Number Theory I', 'Number Theory II', 'Number Theory III', 'Topics in Number Theory', 'Topics in Algebraic Geometry', 'Further Topics in Algebraic Geometry', 'Topics in Algebra', 'Seminar in Algebraic Geometry ', 'Seminar in Number Theory ', 'Mathematical\\n\\t\\t  Methods in Physics and Engineering', 'Mathematical\\n\\t\\t  Methods in Physics and Engineering', 'Mathematical\\n\\t\\t  Methods in Physics and Engineering', 'Topics in Applied Mathematics', 'Seminar in Mathematics of Biological Systems', 'Complex Analysis (4-', 'Topics in Several Complex Variables', 'Further Topics in Several Complex Variables', 'Partial Differential Equations (4-', 'Topics in Differential Equations', 'Further Topics in Differential Equations', 'Real Analysis (4-', 'Functional Analysis (', 'Topics in Fourier Analysis', 'Seminar in Functional Analysis', 'Convex Analysis and Optimization I', 'Convex Analysis and Optimization II', 'Convex Analysis and Optimization III', 'Topics in Real Analysis', 'Further Topics in Real Analysis', 'Seminar in Real Analysis ', 'Differential Geometry (4-', 'Lie Groups (4-', 'Seminar in Lie Groups and Lie Algebras', 'Topics in Differential Geometry', 'Further Topics in Differential Geometry', 'Seminar in Differential Geometry', 'Geometrical Physics (4-', 'Mathematical Logic I', 'Mathematical Logic II', 'Probabilistic Combinatorics and Algorithms', 'Probabilistic\\n\\t\\t  Combinatorics and Algorithms II', 'Probabilistic\\n\\t\\t  Combinatorics and Algorithms III', 'Topics in Combinatorial Mathematics', 'Further Topics in Combinatorial Mathematics', 'Combinatorics (4-', 'Topics in Mathematical Logic', 'Further Topics in Mathematical Logic', 'Seminar in Logic ', 'Seminar in Combinatorics ', 'Numerical Linear Algebra', 'Numerical\\n\\t\\t  Approximation and Nonlinear Equations', 'Numerical Ordinary Differential Equations', 'Numerical Optimization (4-', 'Numerical Partial Differential Equations I', 'Numerical Partial Differential Equations II', 'Numerical Partial Differential Equations III', 'Advanced\\n\\t\\t  Techniques in Computational Mathematics I', 'Advanced\\n\\t\\t  Techniques in Computational Mathematics II', 'Advanced\\n\\t\\t  Techniques in Computational Mathematics III', 'Numerical Methods for Physical Modeling', 'Numerical Methods for Partial Differential Equations', 'Numerical Analysis in Multiscale Biology', 'Topics in Computational and Applied Mathematics ', 'Seminar in Computational and Applied Mathematics ', 'Seminar in Mathematical Physics/PDE ', 'Seminar in Optimization', 'Projects in Computational and Applied Mathematics', 'Probability Theory I', 'Probability Theory II', 'Probability Theory III', 'Mathematical Statistics', 'Mathematical Statistics', 'Mathematical Statistics', 'Applied Statistics I', 'Applied Statistics II', 'Statistical Methods in Bioinformatics', 'Survival Analysis', 'Stochastic Processes', 'Stochastic Differential Equations', 'Time Series Analysis', 'Multivariate Analysis', 'Advanced Time Series Analysis', 'Statistical Learning', 'Seminar in Probability and Statistics ', 'Topics in Probability and Statistics', 'Further Topics in Probability and Statistics', 'Exploratory Data Analysis and Inference', 'Topology (4-', 'Topics in Topology', 'Further Topics in Topology', 'Seminar in Topology ', 'The Mathematics of Finance', 'Special Topics in Mathematics (1 t', 'Graduate Student Colloquium', 'Mathematics Graduate Research Internship (', 'Reading and Research (1 to']\n",
      "['4', '4', '4', '4', '4', '4', '5', '4', '4', '4', '4', '4', '4', '4', '4', '4', '4', '1', '2', '1', ')', '4', '4', '4', '4', '4', '4', '4', '4', '4', '4', '4', '4', '4', '4', '4', '4', '4', '4', '4', '4', '4', '4', '4', '4', '4', '4', '4', '4', '4', '4', '4', '4', '4', '4', '4', ')', '4', '4', '4', '4', '4', '4', '4', '4', '4', '4', '4', '4', '4', '4', '4', '4', '4', '4', '4', '4', '4', '4', '4', '4', '4', '4', '4', '4', '4', '4', '4', '4', '4', '4', '4', '4', '4', '4', '4', '4', '4', '4', '1', '4', '4', '4', '4', '4', '4', '4', '4', '4', '4', '4', '4', '4', '4', '4', '4', '4', '4', ')', ')', '4', '4', '4', '4', '1', '4', '4', '4', '4', '4', '4', '4', '4', '4', '1', '4', '4', '4', '4', '4', ')', '4', '4', '1', '4', '4', '1', '4', '4', '4', '4', '4', '4', '4', '4', '4', '4', '4', ')', ')', '4', '4', '4', '4', '4', '4', '4', '4', '4', '4', '4', '4', '4', '4', ')', ')', '1', '4', '4', '4', '4', '4', '4', '4', '4', '4', '4', '4', '4', '4', '4', '4', '4', '4', ')', '4', '4', '4', '4', '4', '4', ')', '4', '4', '1', '4', '2']\n"
     ]
    }
   ],
   "source": [
    "print(course_ids)\n",
    "print(course_names)\n",
    "print(course_units)"
   ]
  },
  {
   "cell_type": "markdown",
   "metadata": {},
   "source": [
    "## Some course names are weird (why?) e.g. 'Foundations\\n\\t\\t  of Teaching and Learning Mathematics I'"
   ]
  },
  {
   "cell_type": "markdown",
   "metadata": {},
   "source": [
    "## Course units cut off (why?)"
   ]
  },
  {
   "cell_type": "code",
   "execution_count": 17,
   "metadata": {},
   "outputs": [],
   "source": [
    "course_nums = []\n",
    "\n",
    "for i in course_ids:\n",
    "    course_nums.append(re.findall(r'\\d+|\\D+', i)) #regex makes id's in format 'Num' + 'Letter'    \n",
    "\n",
    "#regex for this \\d+|\\D+\n",
    "\n",
    "# just nums: r'^\\d+'"
   ]
  },
  {
   "cell_type": "markdown",
   "metadata": {},
   "source": [
    "#### use list comprehension it is cleaner\n",
    "\n",
    "finding indices of class category"
   ]
  },
  {
   "cell_type": "code",
   "execution_count": 18,
   "metadata": {},
   "outputs": [],
   "source": [
    "\n",
    "\n",
    "for i in course_nums:\n",
    "    if len(i[0]) == 2:\n",
    "        try:\n",
    "            lower_div_i = course_ids.index(i[0]+i[1]) #last index of lower divisions\n",
    "        except IndexError:\n",
    "            lower_div_i = course_ids.index(i[0])\n",
    "    if int(i[0]) < 200:\n",
    "        try:\n",
    "            upper_div_i = course_ids.index(i[0]+i[1]) #\" \" of upper divisions\n",
    "        except IndexError:\n",
    "            upper_div_i = course_ids.index(i[0])\n",
    "        \n",
    "#[i for i,val in enumerate(l) if val==]"
   ]
  },
  {
   "cell_type": "markdown",
   "metadata": {},
   "source": [
    "https://stackoverflow.com/questions/6294179/how-to-find-all-occurrences-of-an-element-in-a-list\n"
   ]
  },
  {
   "cell_type": "markdown",
   "metadata": {},
   "source": [
    "### How to find last value before 200"
   ]
  },
  {
   "cell_type": "code",
   "execution_count": 60,
   "metadata": {},
   "outputs": [],
   "source": [
    "#converting description blocks into lists\n",
    "\n",
    "desc_list = []\n",
    "for i in descriptions:\n",
    "    desc_list.append(re.findall(r\"\\w+,*\", str(i)))"
   ]
  },
  {
   "cell_type": "code",
   "execution_count": 20,
   "metadata": {},
   "outputs": [],
   "source": [
    "# Removing graduate courses\n",
    "\n",
    "course_ids = course_ids[0:upper_div_i + 1]\n",
    "course_names = course_names[0:upper_div_i + 1]\n",
    "course_units = course_units[0:upper_div_i + 1]\n",
    "desc_list = desc_list[0:upper_div_i + 1]"
   ]
  },
  {
   "cell_type": "code",
   "execution_count": 21,
   "metadata": {},
   "outputs": [],
   "source": [
    "#extracting prerequisites.  \n",
    "\n",
    "prereq_list = []\n",
    "\n",
    "for i in np.arange(len(desc_list)):\n",
    "    x = desc_list[i]\n",
    "    try: \n",
    "        prereq_list.append(x[x.index('Prerequisites')+2:len(x)-1])\n",
    "    except ValueError:\n",
    "        print('prereq extraction error at index', i) \n",
    "        prereq_list.append('None')"
   ]
  },
  {
   "cell_type": "markdown",
   "metadata": {},
   "source": [
    "## Check where the ValueErrors occur!  In some cases it may be faulty html e.g Math 157 has weird indent and misses prereq section"
   ]
  },
  {
   "cell_type": "markdown",
   "metadata": {},
   "source": [
    "Before cell below, need to clear the following words/strings: \n",
    "'either'\n",
    "\n",
    "and turn this:\n",
    "\n",
    "'Students',\n",
    "  'who',\n",
    "  'have',\n",
    "  'not',\n",
    "  'completed',\n",
    "  'listed',\n",
    "  'prerequisites',\n",
    "  'may',\n",
    "  'enroll',\n",
    "  'with',\n",
    "  'consent',\n",
    "  'of',\n",
    "  'instructor'\n",
    "  \n",
    "into just \" or + consent of instructor\"\n"
   ]
  },
  {
   "cell_type": "markdown",
   "metadata": {},
   "source": [
    "### might have to parse for or and make the lists 3d"
   ]
  },
  {
   "cell_type": "code",
   "execution_count": 22,
   "metadata": {
    "scrolled": true
   },
   "outputs": [],
   "source": [
    "prereqs_2d = []\n",
    "for n in np.arange(len(course_ids)):\n",
    "    ps = prereq_list[n]\n",
    "    ps_2d = [[]]\n",
    "    inner_i = 0\n",
    "    for i in np.arange(len(ps)):    \n",
    "        if ps[i] != 'and':\n",
    "            ps_2d[inner_i].append(ps[i])\n",
    "        #if ps[i] == 'students' or \n",
    "        else:\n",
    "            ps_2d.append([])\n",
    "            inner_i = inner_i + 1\n",
    "    prereqs_2d.append(ps_2d)"
   ]
  },
  {
   "cell_type": "code",
   "execution_count": null,
   "metadata": {},
   "outputs": [],
   "source": [
    "n = [['MATH', '140A', 'or', 'consent', 'of', 'instructor'], [asdasdasd]]\n",
    "\n",
    "prereqs_3d = []\n",
    "for n in np.arange(len(course_ids)):\n",
    "    ps = prereq_list[n]:\n",
    "        for i in np.arange(len(ps)):\n",
    "            for i2 in ps[i]:\n",
    "                if i2 "
   ]
  },
  {
   "cell_type": "code",
   "execution_count": 23,
   "metadata": {},
   "outputs": [
    {
     "data": {
      "text/plain": [
       "21"
      ]
     },
     "execution_count": 23,
     "metadata": {},
     "output_type": "execute_result"
    }
   ],
   "source": [
    "course_ids.index('100A')"
   ]
  },
  {
   "cell_type": "code",
   "execution_count": 24,
   "metadata": {},
   "outputs": [
    {
     "data": {
      "text/plain": [
       "[['MATH', '140A', 'or', 'consent', 'of', 'instructor']]"
      ]
     },
     "execution_count": 24,
     "metadata": {},
     "output_type": "execute_result"
    }
   ],
   "source": [
    "prereqs_2d[45]"
   ]
  },
  {
   "cell_type": "markdown",
   "metadata": {},
   "source": [
    "all classes are going to have to be in the same object unless more looping"
   ]
  },
  {
   "cell_type": "code",
   "execution_count": 23,
   "metadata": {},
   "outputs": [
    {
     "ename": "SyntaxError",
     "evalue": "invalid syntax (<ipython-input-23-889b7b9f37a0>, line 3)",
     "output_type": "error",
     "traceback": [
      "\u001b[0;36m  File \u001b[0;32m\"<ipython-input-23-889b7b9f37a0>\"\u001b[0;36m, line \u001b[0;32m3\u001b[0m\n\u001b[0;31m    look at prereqs of the prereq:\u001b[0m\n\u001b[0m          ^\u001b[0m\n\u001b[0;31mSyntaxError\u001b[0m\u001b[0;31m:\u001b[0m invalid syntax\n"
     ]
    }
   ],
   "source": [
    "for prereq in prereqs_for_some_class:\n",
    "    preprereqs = [] # prereqs for this prereq \n",
    "    look at prereqs of the prereq:\n",
    "        repeat?\n",
    "\n",
    "\n",
    "for i in prereqs:\n",
    "    prereqs_3d[course_ids.index(i)]\n",
    "    "
   ]
  },
  {
   "cell_type": "markdown",
   "metadata": {},
   "source": [
    "# Want to create dataframe with Columns: name, ID, prereqs, descs (?)"
   ]
  },
  {
   "cell_type": "code",
   "execution_count": null,
   "metadata": {},
   "outputs": [],
   "source": [
    "course_info_df = pd.DataFrame({'Course id': course_ids, 'Course name': course_names, 'Course units' = course_units, 'Prereqs' = })"
   ]
  },
  {
   "cell_type": "markdown",
   "metadata": {},
   "source": [
    "Course names array must be in 2d.\n",
    "\n",
    "[[Math 2, Introduction to College Mathematics], [MATH 3, Precalculus] ...] "
   ]
  },
  {
   "cell_type": "code",
   "execution_count": 78,
   "metadata": {},
   "outputs": [
    {
     "name": "stdout",
     "output_type": "stream",
     "text": [
      "(205,)\n"
     ]
    }
   ],
   "source": [
    "\n",
    "#course_page = course_page[0:int(np.where(course_page == '<p class=\"course-name\">MATH 200A-B-C. Algebra (4-4-4)</p>')[0])]"
   ]
  },
  {
   "cell_type": "code",
   "execution_count": 51,
   "metadata": {},
   "outputs": [
    {
     "ename": "SyntaxError",
     "evalue": "unexpected EOF while parsing (<ipython-input-51-89e5bcb3f799>, line 5)",
     "output_type": "error",
     "traceback": [
      "\u001b[0;36m  File \u001b[0;32m\"<ipython-input-51-89e5bcb3f799>\"\u001b[0;36m, line \u001b[0;32m5\u001b[0m\n\u001b[0;31m    \u001b[0m\n\u001b[0m    ^\u001b[0m\n\u001b[0;31mSyntaxError\u001b[0m\u001b[0;31m:\u001b[0m unexpected EOF while parsing\n"
     ]
    }
   ],
   "source": [
    "courses = []\n",
    "start = ' <p class=\"course-name\"> '\n",
    "stop = '</p>'\n",
    "for i in course_page:\n",
    "    for s in i:\n",
    "        "
   ]
  },
  {
   "cell_type": "markdown",
   "metadata": {},
   "source": [
    "# GRAPHS\n",
    "\n",
    "adjacency matrix or array of vertex pairs?\n",
    "\n",
    "-adj lists"
   ]
  },
  {
   "cell_type": "markdown",
   "metadata": {},
   "source": [
    "have to consider inter departmental case and how to access their respective course_ids etc"
   ]
  },
  {
   "cell_type": "markdown",
   "metadata": {},
   "source": [
    "The loop should keep going as long as it can find the class in a prereq object.\n",
    "\n",
    "dictionaries?  [Dept, ID] : [prereqs]"
   ]
  },
  {
   "cell_type": "code",
   "execution_count": null,
   "metadata": {},
   "outputs": [],
   "source": [
    "def get_prereq(dept, num):\n",
    "    a = course_ids.index(num) # [!] need to specify for dept\n",
    "    return prereqs_3d[a]"
   ]
  },
  {
   "cell_type": "markdown",
   "metadata": {},
   "source": [
    "#### The recursive part\n",
    "\n",
    "input: course\n",
    "intermediary input: the course's immediate prerequisites\n",
    "\n",
    "the loop: should iterate down until no more prereq\n",
    "\n",
    "output: A graph"
   ]
  },
  {
   "cell_type": "code",
   "execution_count": null,
   "metadata": {},
   "outputs": [],
   "source": [
    "eg_prq = [ [['CSE', '8B'], ['CSE','11']],  [['MATH', '18'], ['MATH', '31AH']], [['MATH', '20E']], [['MATH','180A']] ]\n",
    "\n",
    "map_graph = []\n",
    "for i1 in eg_prq:\n",
    "    for i2 in i1:\n",
    "        prqs = get_prereq(i2[0], i2[1])\n",
    "        \n",
    "        \n",
    "        \n",
    "    map_graph.append([c1, c2])\n",
    "        \n",
    "        #dept = n[0][0]\n",
    "                \n",
    "                if eg_prq[i] == prereq_list[x] "
   ]
  },
  {
   "cell_type": "code",
   "execution_count": 9,
   "metadata": {},
   "outputs": [],
   "source": [
    "a = []\n",
    "a.append(1)\n"
   ]
  },
  {
   "cell_type": "code",
   "execution_count": 10,
   "metadata": {},
   "outputs": [
    {
     "data": {
      "text/plain": [
       "[1]"
      ]
     },
     "execution_count": 10,
     "metadata": {},
     "output_type": "execute_result"
    }
   ],
   "source": [
    "a"
   ]
  },
  {
   "cell_type": "code",
   "execution_count": null,
   "metadata": {},
   "outputs": [],
   "source": []
  }
 ],
 "metadata": {
  "kernelspec": {
   "display_name": "Python 3",
   "language": "python",
   "name": "python3"
  },
  "language_info": {
   "codemirror_mode": {
    "name": "ipython",
    "version": 3
   },
   "file_extension": ".py",
   "mimetype": "text/x-python",
   "name": "python",
   "nbconvert_exporter": "python",
   "pygments_lexer": "ipython3",
   "version": "3.6.9"
  }
 },
 "nbformat": 4,
 "nbformat_minor": 2
}
